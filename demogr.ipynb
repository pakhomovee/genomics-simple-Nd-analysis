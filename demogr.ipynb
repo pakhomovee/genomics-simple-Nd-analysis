{
 "cells": [
  {
   "cell_type": "code",
   "id": "initial_id",
   "metadata": {
    "collapsed": true,
    "ExecuteTime": {
     "end_time": "2024-10-15T12:10:06.558444Z",
     "start_time": "2024-10-15T12:10:06.141726Z"
    }
   },
   "source": [
    "import msprime\n",
    "from IPython.display import SVG, display\n",
    "def generate_demography(seed, do_draw=False, cnt=1):\n",
    "    demography = msprime.Demography()\n",
    "    demography.add_population(name=\"ANC\", initial_size=11_000)\n",
    "    demography.add_population(name=\"EUR_PURE\", initial_size=5_000)\n",
    "    demography.add_population(name=\"EUR\", initial_size=5_000)\n",
    "    demography.add_population(name=\"AFR\", initial_size=5_000)\n",
    "    demography.add_population(name=\"NND\", initial_size=10_000)\n",
    "    demography.add_population(name=\"ND\", initial_size=1_000)\n",
    "    demography.add_population_split(time=28_000, derived=[\"ND\", \"NND\"], ancestral=\"ANC\")\n",
    "    demography.add_population_split(time=4_000, derived=[\"EUR_PURE\", \"AFR\"], ancestral=\"NND\")\n",
    "    demography.add_admixture(2_000, derived=\"EUR\", ancestral=[\"EUR_PURE\", \"ND\"], proportions=[0.97, 0.03])\n",
    "    demography.sort_events()\n",
    "    ts = msprime.sim_ancestry(samples={\"AFR\": cnt, \"EUR\": cnt, \"ND\": cnt}, demography=demography, random_seed=seed)\n",
    "    if do_draw:\n",
    "        #print(demography.debug())\n",
    "        styles = []\n",
    "        # Create a style for each population, programmatically (or just type the string by hand)\n",
    "        for colour, p in zip(['red', 'green', 'blue', 'purple', 'black', 'orange'], ts.populations()):\n",
    "            # target the symbols only (class \"sym\")\n",
    "            s = f\".node.p{p.id} > .sym \" + \"{\" + f\"fill: {colour}\" + \"}\"\n",
    "            styles.append(s)\n",
    "            print(f'\"{s}\" applies to nodes from population {p.metadata[\"name\"]} (id {p.id})')\n",
    "        css_string = \" \".join(styles)\n",
    "        nd_labels = {}  # An array of labels for the nodes\n",
    "        for n in ts.nodes():\n",
    "            # Set sample node labels from metadata. Here we use the population name, but you might want\n",
    "            # to use the *individual* name instead, if the individuals in your tree sequence have names\n",
    "            if n.is_sample():\n",
    "                nd_labels[n.id] = ts.population(n.population).metadata[\"name\"]\n",
    "                print(ts.population(n.population))\n",
    "        with open('./file.svg','w') as outfile:\n",
    "            outfile.write(SVG(ts.first().draw_svg(y_axis=True, size=(1000,400), time_scale='rank', y_label=' ', style=css_string, node_labels=nd_labels)).data)\n",
    "    return ts\n",
    "\n",
    "total = 0\n",
    "drifted = 0\n",
    "for seed in range(100):\n",
    "    ts = generate_demography(seed + 1, False, 1)\n",
    "    nd_sample = -1\n",
    "    eur_sample = -1\n",
    "    for n in ts.nodes():\n",
    "        if n.is_sample():\n",
    "            if ts.population(n.population).metadata[\"name\"] == \"ND\":\n",
    "                nd_sample = n.id\n",
    "    for n in ts.nodes():\n",
    "        if n.is_sample():\n",
    "            if ts.population(n.population).metadata[\"name\"] == \"EUR\":\n",
    "                total += 1\n",
    "                if ts.population((ts.nodes()[ts.first().mrca(nd_sample, n.id)]).population).metadata[\"name\"] == \"ND\":\n",
    "                    drifted += 1\n",
    "print(drifted / total)"
   ],
   "outputs": [
    {
     "name": "stdout",
     "output_type": "stream",
     "text": [
      "0.025\n"
     ]
    }
   ],
   "execution_count": 1
  },
  {
   "metadata": {},
   "cell_type": "code",
   "outputs": [],
   "execution_count": null,
   "source": "",
   "id": "d0b913ba804d606d"
  }
 ],
 "metadata": {
  "kernelspec": {
   "display_name": "Python 3",
   "language": "python",
   "name": "python3"
  },
  "language_info": {
   "codemirror_mode": {
    "name": "ipython",
    "version": 2
   },
   "file_extension": ".py",
   "mimetype": "text/x-python",
   "name": "python",
   "nbconvert_exporter": "python",
   "pygments_lexer": "ipython2",
   "version": "2.7.6"
  }
 },
 "nbformat": 4,
 "nbformat_minor": 5
}
